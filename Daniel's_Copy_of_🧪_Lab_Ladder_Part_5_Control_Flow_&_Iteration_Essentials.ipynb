{
  "cells": [
    {
      "cell_type": "markdown",
      "metadata": {
        "id": "view-in-github",
        "colab_type": "text"
      },
      "source": [
        "<a href=\"https://colab.research.google.com/github/danielphilip12/Python-Ladder-Lab-5/blob/main/Daniel's_Copy_of_%F0%9F%A7%AA_Lab_Ladder_Part_5_Control_Flow_%26_Iteration_Essentials.ipynb\" target=\"_parent\"><img src=\"https://colab.research.google.com/assets/colab-badge.svg\" alt=\"Open In Colab\"/></a>"
      ]
    },
    {
      "cell_type": "markdown",
      "metadata": {
        "id": "1xbyIYOxEjtO"
      },
      "source": [
        "<div>\n",
        "<img src=\"https://coursereport-s3-production.global.ssl.fastly.net/uploads/school/logo/219/original/CT_LOGO_NEW.jpg\" width=60>\n",
        "</div>\n",
        "\n",
        "# **Python Ladder Challenges - Control Flow & Iteration Essentials**"
      ]
    },
    {
      "cell_type": "markdown",
      "metadata": {
        "id": "KnVBAM15EjtU"
      },
      "source": [
        "# Climb the Ladder!\n",
        "Welcome to Part 5 of our ladder! Our class moves quickly! Sometimes, it feels like we make leaps in logic that are a bit too big. Learn Python _slowly_, by doing many, many examples. Problems in this notebook start out easy and progressively get harder, so that the next rung of the Python ladder is always within reach."
      ]
    },
    {
      "cell_type": "markdown",
      "metadata": {
        "id": "FDM44C8SE9p7"
      },
      "source": [
        "# Section VIII: Conditionals and Loops"
      ]
    },
    {
      "cell_type": "markdown",
      "metadata": {
        "id": "uKCzo7IXE9p7"
      },
      "source": [
        "52) Print out the numbers 1 through 20."
      ]
    },
    {
      "cell_type": "code",
      "execution_count": 1,
      "metadata": {
        "id": "roelWZmUE9p7",
        "colab": {
          "base_uri": "https://localhost:8080/"
        },
        "outputId": "3b7db4d3-1c60-4182-b39a-c4593977fd63"
      },
      "outputs": [
        {
          "output_type": "stream",
          "name": "stdout",
          "text": [
            "1\n",
            "2\n",
            "3\n",
            "4\n",
            "5\n",
            "6\n",
            "7\n",
            "8\n",
            "9\n",
            "10\n",
            "11\n",
            "12\n",
            "13\n",
            "14\n",
            "15\n",
            "16\n",
            "17\n",
            "18\n",
            "19\n",
            "20\n"
          ]
        }
      ],
      "source": [
        "for i in range(1, 21):\n",
        "  print(i)"
      ]
    },
    {
      "cell_type": "markdown",
      "metadata": {
        "id": "2eLEOKAZE9p8"
      },
      "source": [
        "53) Print out the odd numbers between 1 and 20 by using the third paramter to the `range()` function."
      ]
    },
    {
      "cell_type": "code",
      "execution_count": 2,
      "metadata": {
        "id": "5sDKWzwsE9p8",
        "colab": {
          "base_uri": "https://localhost:8080/"
        },
        "outputId": "1096db3c-d081-4853-fb8b-4195cf8b26ac"
      },
      "outputs": [
        {
          "output_type": "stream",
          "name": "stdout",
          "text": [
            "1\n",
            "3\n",
            "5\n",
            "7\n",
            "9\n",
            "11\n",
            "13\n",
            "15\n",
            "17\n",
            "19\n"
          ]
        }
      ],
      "source": [
        "for i in range(1, 21, 2):\n",
        "  print(i)"
      ]
    },
    {
      "cell_type": "markdown",
      "metadata": {
        "id": "uOOCnvtyE9p8"
      },
      "source": [
        "54) Print out the odd numbers between 1 and 20 by checking if the number is even before printing."
      ]
    },
    {
      "cell_type": "code",
      "execution_count": 3,
      "metadata": {
        "id": "VYNZ71akE9p9",
        "colab": {
          "base_uri": "https://localhost:8080/"
        },
        "outputId": "51a7423b-1f5c-4dc3-cf74-b11d67d9be98"
      },
      "outputs": [
        {
          "output_type": "stream",
          "name": "stdout",
          "text": [
            "1\n",
            "3\n",
            "5\n",
            "7\n",
            "9\n",
            "11\n",
            "13\n",
            "15\n",
            "17\n",
            "19\n"
          ]
        }
      ],
      "source": [
        "for i in range(1, 21):\n",
        "  if i % 2 == 1:\n",
        "    print(i)"
      ]
    },
    {
      "cell_type": "markdown",
      "metadata": {
        "id": "VgrjEghgE9p9"
      },
      "source": [
        "55) What is the sum of the first 100 integers? Hint: Create a variable `total` equal to zero, and increment `total` inside a loop."
      ]
    },
    {
      "cell_type": "code",
      "execution_count": 7,
      "metadata": {
        "id": "SkwVYvI2E9p-",
        "colab": {
          "base_uri": "https://localhost:8080/"
        },
        "outputId": "6a91d404-7c64-456c-eb5e-eda65dcdc5e3"
      },
      "outputs": [
        {
          "output_type": "stream",
          "name": "stdout",
          "text": [
            "5050\n"
          ]
        }
      ],
      "source": [
        "total = 0\n",
        "for i in range(101):\n",
        "  total += i\n",
        "\n",
        "print(total)"
      ]
    },
    {
      "cell_type": "markdown",
      "metadata": {
        "id": "8gCGcCapE9p-"
      },
      "source": [
        "56) For each friend in your `friends` list, print `'PERSON IS AWESOME!'` in all caps, where `PERSON` is of course replaced with your friend's name."
      ]
    },
    {
      "cell_type": "code",
      "execution_count": 8,
      "metadata": {
        "id": "3Ezy3JykE9p-"
      },
      "outputs": [],
      "source": [
        "friends = [\"Alice\", \"Bob\", \"Charlie\", \"Debbie\"]"
      ]
    },
    {
      "cell_type": "code",
      "execution_count": 9,
      "metadata": {
        "id": "GkOHp8TuE9qA",
        "colab": {
          "base_uri": "https://localhost:8080/"
        },
        "outputId": "9f85ce8a-a2b4-43de-ba8d-63080542d507"
      },
      "outputs": [
        {
          "output_type": "stream",
          "name": "stdout",
          "text": [
            "ALICE IS AWESOME!\n",
            "BOB IS AWESOME!\n",
            "CHARLIE IS AWESOME!\n",
            "DEBBIE IS AWESOME!\n"
          ]
        }
      ],
      "source": [
        "for friend in friends:\n",
        "  print(f\"{friend} is awesome!\".upper())"
      ]
    },
    {
      "cell_type": "markdown",
      "metadata": {
        "id": "UMp_VLP7E9qA"
      },
      "source": [
        "57) Similar to the last problem, print `'PERSON IS AWESOME!'` for each friend in your friends list _only if their name ends in a vowel_. Otherwise, print `\"person is ok...\"` (all lowercase)."
      ]
    },
    {
      "cell_type": "code",
      "execution_count": 10,
      "metadata": {
        "id": "UGT14E0cE9qA",
        "colab": {
          "base_uri": "https://localhost:8080/"
        },
        "outputId": "091b3061-c82a-4731-cdf0-5ad26bfb15a7"
      },
      "outputs": [
        {
          "output_type": "stream",
          "name": "stdout",
          "text": [
            "ALICE IS AWESOME!\n",
            "bob is okay\n",
            "CHARLIE IS AWESOME!\n",
            "DEBBIE IS AWESOME!\n"
          ]
        }
      ],
      "source": [
        "for friend in friends:\n",
        "  if friend[-1].lower() in 'aeiou':\n",
        "    print(f\"{friend} is awesome!\".upper())\n",
        "  else:\n",
        "    print(f\"{friend} is okay\".lower())"
      ]
    },
    {
      "cell_type": "markdown",
      "metadata": {
        "id": "DBbHDIOvE9qB"
      },
      "source": [
        "58) For each number between 1 and 30 (inclusive), if a number is divisible by 3, print `'Fizz'`. Otherwise, just print the number."
      ]
    },
    {
      "cell_type": "code",
      "execution_count": 12,
      "metadata": {
        "id": "JOJffuQ5E9qB",
        "colab": {
          "base_uri": "https://localhost:8080/"
        },
        "outputId": "3ed33d70-53d8-4b85-f6d7-87d26f1a9150"
      },
      "outputs": [
        {
          "output_type": "stream",
          "name": "stdout",
          "text": [
            "1\n",
            "2\n",
            "Fizz\n",
            "4\n",
            "5\n",
            "Fizz\n",
            "7\n",
            "8\n",
            "Fizz\n",
            "10\n",
            "11\n",
            "Fizz\n",
            "13\n",
            "14\n",
            "Fizz\n",
            "16\n",
            "17\n",
            "Fizz\n",
            "19\n",
            "20\n",
            "Fizz\n",
            "22\n",
            "23\n",
            "Fizz\n",
            "25\n",
            "26\n",
            "Fizz\n",
            "28\n",
            "29\n",
            "Fizz\n"
          ]
        }
      ],
      "source": [
        "for i in range(1, 31):\n",
        "  if i % 3 == 0:\n",
        "    print(\"Fizz\")\n",
        "  else:\n",
        "    print(i)"
      ]
    },
    {
      "cell_type": "markdown",
      "metadata": {
        "id": "D3LWEpqSE9qB"
      },
      "source": [
        "59) For each number between 1 and 30 (inclusive), if a number is divisible by 5, print `'Buzz'`. Otherwise, just print the number."
      ]
    },
    {
      "cell_type": "code",
      "execution_count": 13,
      "metadata": {
        "id": "hMp89P4yE9qB",
        "colab": {
          "base_uri": "https://localhost:8080/"
        },
        "outputId": "d184016c-ca7c-4f7f-9e11-e753eb0c92a3"
      },
      "outputs": [
        {
          "output_type": "stream",
          "name": "stdout",
          "text": [
            "1\n",
            "2\n",
            "3\n",
            "4\n",
            "Buzz\n",
            "6\n",
            "7\n",
            "8\n",
            "9\n",
            "Buzz\n",
            "11\n",
            "12\n",
            "13\n",
            "14\n",
            "Buzz\n",
            "16\n",
            "17\n",
            "18\n",
            "19\n",
            "Buzz\n",
            "21\n",
            "22\n",
            "23\n",
            "24\n",
            "Buzz\n",
            "26\n",
            "27\n",
            "28\n",
            "29\n",
            "Buzz\n"
          ]
        }
      ],
      "source": [
        "for i in range(1, 31):\n",
        "  if i % 5 == 0:\n",
        "    print(\"Buzz\")\n",
        "  else:\n",
        "    print(i)"
      ]
    },
    {
      "cell_type": "markdown",
      "metadata": {
        "id": "1vuAgeMFE9qC"
      },
      "source": [
        "60) **FIZZBUZZ!** For each number between 1 and 30 (inclusive),\n",
        "* if a number is divisible by 3, print `'Fizz'`\n",
        "* if a number is divisible by 5, print `'Buzz'`\n",
        "* if a number is divisible by both 3 and 5, instead print `'FizzBuzz'`,\n",
        "* otherwise, just print the number\n",
        "\n",
        "This problem is the famous \"Fizzbuzz\" problem - and is a very common interview coding challenge! If you can do this without help, you're making awesome progress! Well done!"
      ]
    },
    {
      "cell_type": "code",
      "source": [
        "for i in range(1, 31):\n",
        "  if i % 3 == 0 and i % 5 == 0:\n",
        "    print(\"FizzBuzz\")\n",
        "  elif i % 5 == 0:\n",
        "    print(\"Buzz\")\n",
        "  elif i % 3 == 0:\n",
        "    print(\"Fizz\")\n",
        "  else:\n",
        "    print(i)"
      ],
      "metadata": {
        "id": "q6J6s38pVjeV",
        "colab": {
          "base_uri": "https://localhost:8080/"
        },
        "outputId": "87900f7c-de58-4e46-adac-965fd46d4d0d"
      },
      "execution_count": 14,
      "outputs": [
        {
          "output_type": "stream",
          "name": "stdout",
          "text": [
            "1\n",
            "2\n",
            "Fizz\n",
            "4\n",
            "Buzz\n",
            "Fizz\n",
            "7\n",
            "8\n",
            "Fizz\n",
            "Buzz\n",
            "11\n",
            "Fizz\n",
            "13\n",
            "14\n",
            "FizzBuzz\n",
            "16\n",
            "17\n",
            "Fizz\n",
            "19\n",
            "Buzz\n",
            "Fizz\n",
            "22\n",
            "23\n",
            "Fizz\n",
            "Buzz\n",
            "26\n",
            "Fizz\n",
            "28\n",
            "29\n",
            "FizzBuzz\n"
          ]
        }
      ]
    },
    {
      "cell_type": "markdown",
      "metadata": {
        "id": "5koF7xaiE9qC"
      },
      "source": [
        "61) Define a string and call it `sentence`!"
      ]
    },
    {
      "cell_type": "code",
      "execution_count": 15,
      "metadata": {
        "id": "yOPHcv3AE9qC"
      },
      "outputs": [],
      "source": [
        "sentence = \"I like dogs\""
      ]
    },
    {
      "cell_type": "markdown",
      "metadata": {
        "id": "VKIdBzobE9qC"
      },
      "source": [
        "62) Count the number of vowels in `sentence` (no, y is not a vowel).\n",
        "* _Hint:_ What happens if you loop through a string?"
      ]
    },
    {
      "cell_type": "code",
      "execution_count": 16,
      "metadata": {
        "id": "-ObO9xqdE9qD",
        "colab": {
          "base_uri": "https://localhost:8080/"
        },
        "outputId": "5ede6907-1775-4e92-9ca5-a892a84e3392"
      },
      "outputs": [
        {
          "output_type": "stream",
          "name": "stdout",
          "text": [
            "4\n"
          ]
        }
      ],
      "source": [
        "vowel_count = 0\n",
        "for i in sentence:\n",
        "  if i.lower() in \"aeiou\":\n",
        "    vowel_count += 1\n",
        "print(vowel_count)"
      ]
    },
    {
      "cell_type": "markdown",
      "metadata": {
        "id": "aoSiZrx8E9qD"
      },
      "source": [
        "63) Define a variable `sentence_rm` that is equal to `sentence` with all vowels removed.\n",
        "* _Hint:_ This is a tough one. Start out with an empty string and concatenate all of the consonants to it inside a loop."
      ]
    },
    {
      "cell_type": "code",
      "execution_count": 17,
      "metadata": {
        "id": "LsR8lshzE9qD",
        "colab": {
          "base_uri": "https://localhost:8080/"
        },
        "outputId": "121b080c-4ea0-43d1-d45b-0846bf072ad4"
      },
      "outputs": [
        {
          "output_type": "stream",
          "name": "stdout",
          "text": [
            " lk dgs\n"
          ]
        }
      ],
      "source": [
        "sentence_rm = \"\"\n",
        "for i in sentence:\n",
        "  if i.lower() in \"aeiou\":\n",
        "    continue\n",
        "  else:\n",
        "    sentence_rm += i\n",
        "print(sentence_rm)"
      ]
    },
    {
      "cell_type": "markdown",
      "metadata": {
        "id": "RM7ZSLllE9qD"
      },
      "source": [
        "64) A palindromic word reads the same both ways. For example, “civic,” “madam,” “radar,” and “deified” are all palindromes. Write an `if` statement to test whether or not a word is palindromic. Bonus if you can make this case insensitive."
      ]
    },
    {
      "cell_type": "code",
      "execution_count": 18,
      "metadata": {
        "id": "7nreFJ_pE9qD",
        "colab": {
          "base_uri": "https://localhost:8080/"
        },
        "outputId": "35ea676a-b933-4f06-ba24-2731778b9c39"
      },
      "outputs": [
        {
          "output_type": "stream",
          "name": "stdout",
          "text": [
            "civic is a palindrome\n",
            "dogs is not a palindrome\n",
            "madam is a palindrome\n",
            "along is not a palindrome\n",
            "deified is a palindrome\n"
          ]
        }
      ],
      "source": [
        "test_strings = ['civic', 'dogs', 'madam', 'along', 'deified']\n",
        "\n",
        "for string in test_strings:\n",
        "  if string.lower() == string[::-1].lower():\n",
        "    print(f\"{string} is a palindrome\")\n",
        "  else:\n",
        "    print(f\"{string} is not a palindrome\")"
      ]
    }
  ],
  "metadata": {
    "colab": {
      "provenance": [],
      "include_colab_link": true
    },
    "kernelspec": {
      "display_name": "Python 3",
      "language": "python",
      "name": "python3"
    },
    "language_info": {
      "codemirror_mode": {
        "name": "ipython",
        "version": 3
      },
      "file_extension": ".py",
      "mimetype": "text/x-python",
      "name": "python",
      "nbconvert_exporter": "python",
      "pygments_lexer": "ipython3",
      "version": "3.8.3"
    }
  },
  "nbformat": 4,
  "nbformat_minor": 0
}